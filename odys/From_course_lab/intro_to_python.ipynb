{
  "cells": [
    {
      "cell_type": "markdown",
      "metadata": {
        "id": "b6s1D5SBVqym"
      },
      "source": [
        "### **Python** Syntax:\n",
        "---\n",
        "\n",
        "In this course, we'll mainly focus on NumPy, SciPy, Scikit-learn, Matplotlib and PyTorch.\n",
        "\n",
        "Some of the functions/operations are native (they come installed with python) while others you'll need to install.\n",
        "\n",
        "I would recommend using the Anaconda/MiniConda Platform. It is easy to install and manage your installation.\n",
        "\n",
        "Highly Recommended Practice: Use a Virtual environment to avoid breaking python in your whole OS.\n",
        "\n",
        "We'll be **exclusively working** with Python 3 Syntax and with Jupyter Notebooks.\n",
        "\n"
      ]
    },
    {
      "cell_type": "markdown",
      "metadata": {
        "id": "KD2KQIjCEh6n"
      },
      "source": [
        "Usually at the start of our script, we import all the necessary libraries/packages that we'll use throughout the code.\n",
        "There exist many many packages in python for almost everything.\n"
      ]
    },
    {
      "cell_type": "code",
      "execution_count": null,
      "metadata": {
        "id": "sDpFl3AXVo5q"
      },
      "outputs": [],
      "source": [
        "# this is a comment!!\n",
        "# for this tutorial we only need numpy,\n",
        "# the as ... syntax is used to create a symbolic abbreviation of the package\n",
        "# thus afterwards we do not need to write numpy.something but instead np.something\n",
        "import numpy as np\n"
      ]
    },
    {
      "cell_type": "markdown",
      "metadata": {
        "id": "mhkO44hkE0Yy"
      },
      "source": [
        "### **Variable Creation**:\n",
        "---\n",
        "In Python, we can define a variable at whatever stage we're at and of any type we want."
      ]
    },
    {
      "cell_type": "code",
      "execution_count": null,
      "metadata": {
        "colab": {
          "base_uri": "https://localhost:8080/"
        },
        "id": "ntLVUs_WX9hg",
        "outputId": "ffae2b09-1852-48c1-ed8c-b79b24bd78b0"
      },
      "outputs": [
        {
          "name": "stdout",
          "output_type": "stream",
          "text": [
            "x has value: 2.0000\n",
            "y has value: ml course\n",
            "\n",
            "Boolean value: True\n",
            "Boolean inverted: False\n",
            "\n"
          ]
        }
      ],
      "source": [
        "# simple variable creation\n",
        "\n",
        "# this is a float\n",
        "x = 2.\n",
        "\n",
        "# this is a string / str in python\n",
        "y = 'ml course'\n",
        "\n",
        "# this denotes a boolean variable\n",
        "flag = True\n",
        "\n",
        "# To see the values of the variables, we use the print function\n",
        "# we'll see the string manipulation inside the print function shortly\n",
        "print('x has value: %.4f'%x)\n",
        "print('y has value: %s'%y)\n",
        "\n",
        "# the empty print, just prints a newline\n",
        "print()\n",
        "\n",
        "# for the boolean values, adding not in front, inverts their value: not False = True, not True = False\n",
        "print('Boolean value: %s'%flag)\n",
        "print('Boolean inverted: %s'%(not flag))\n",
        "\n",
        "print()"
      ]
    },
    {
      "cell_type": "code",
      "execution_count": 3,
      "metadata": {
        "colab": {
          "base_uri": "https://localhost:8080/"
        },
        "id": "Lm0FOIsQGfDN",
        "outputId": "0377ebc6-39b2-49fa-a552-8c6132ecc4d6"
      },
      "outputs": [
        {
          "name": "stdout",
          "output_type": "stream",
          "text": [
            "Type of x: <class 'float'>\n",
            "Type of y: <class 'str'>\n",
            "Type of flag: <class 'bool'>\n"
          ]
        }
      ],
      "source": [
        "# If at some point you're uncertain about the variables you are using, you can check their type\n",
        "print('Type of x: %s'%type(x))\n",
        "print('Type of y: %s'%type(y))\n",
        "print('Type of flag: %s'%type(flag))"
      ]
    },
    {
      "cell_type": "markdown",
      "metadata": {
        "id": "W9wSCzeVGo4s"
      },
      "source": [
        "### **Simple Operations with Python Variables**\n",
        "---\n",
        "Having defined some variables, we can perform several operations on them.\n",
        "We can add/subtract/multiply/divide integer/floats, use modulo, perform integer division e.t.c."
      ]
    },
    {
      "cell_type": "code",
      "execution_count": 6,
      "metadata": {
        "colab": {
          "base_uri": "https://localhost:8080/"
        },
        "id": "pe27t9qK8azm",
        "outputId": "ff854c66-7651-49a1-b373-ef48ae2222e4"
      },
      "outputs": [
        {
          "name": "stdout",
          "output_type": "stream",
          "text": [
            "hello world\n"
          ]
        }
      ],
      "source": [
        "x = \"hello \"\n",
        "y = \"world\"\n",
        "print(x + y) # this is string concatenation"
      ]
    },
    {
      "cell_type": "code",
      "execution_count": null,
      "metadata": {
        "colab": {
          "base_uri": "https://localhost:8080/"
        },
        "id": "cxBrrT1RHIC4",
        "outputId": "45e303ab-1216-40cf-d17f-5e7e3698a62d"
      },
      "outputs": [
        {
          "name": "stdout",
          "output_type": "stream",
          "text": [
            "Adding 5 and 2 = 7\n",
            "Adding 5 and 2 = 7\n",
            "Adding 5.00 and 2.00 = 7.00\n",
            "\n"
          ]
        }
      ],
      "source": [
        "# Let's start by defining two integer variables\n",
        "x = 5\n",
        "y = 2\n",
        "\n",
        "# the syntax for addition is very simple\n",
        "z = x + y\n",
        "\n",
        "# now z contains the sum of x and y\n",
        "#print the results\n",
        "print('Adding ' + str(x) +' and ' +str(y) + ' = ' + str(z))\n",
        "\n",
        "# the above print command is a little restrictive when having multiple objects e.g. integers, floats, e.t.c,\n",
        "# you need to convert all to strings and watch out for the spaces\n",
        "\n",
        "# a more flexible print which automatically tries to convert objects to str\n",
        "print('Adding', x, 'and', y, '=', z)\n",
        "\n",
        "# we can alternative print with more flexibility\n",
        "# even though you need to know the types of the variables is easier if you want to\n",
        "# print something very long\n",
        "# in the general case you can use %r and python will try to print it correctly\n",
        "print('Adding %.2f and %.2f = %.2f'%(x,y,z))\n",
        "\n",
        "# this will print a newline\n",
        "print()\n",
        "\n",
        "# alternatively we can put the newline character \\n in the previous print\n",
        "# we do this below\n"
      ]
    },
    {
      "cell_type": "markdown",
      "metadata": {
        "id": "TNcSKV-hRiAx"
      },
      "source": [
        "### **String Manipulation**:\n",
        "---\n",
        "We can perform various operations on strs in Python.\n",
        "You'll mainly need it for printing or argument parsing, but it is useful to know the basics."
      ]
    },
    {
      "cell_type": "code",
      "execution_count": null,
      "metadata": {
        "colab": {
          "base_uri": "https://localhost:8080/"
        },
        "id": "6cPEdG4ARhEi",
        "outputId": "4195c45c-21b2-4684-f6dd-10f5972fcad2"
      },
      "outputs": [
        {
          "name": "stdout",
          "output_type": "stream",
          "text": [
            "Original string: ml course\n",
            "\n",
            "Original string after adding letter: ml course2\n",
            "\n",
            "Original string after adding word: ml course2_2019\n",
            "\n",
            "Original string after converting to uppercase: ML COURSE2_2019\n",
            "\n",
            "Original string after replacing whitespace with no space: mlcourse2_2019\n",
            "\n",
            "Get first five letters of the original string: ml co\n",
            "\n"
          ]
        }
      ],
      "source": [
        "# we can define a string\n",
        "x = 'ml course'\n",
        "print('Original string: %s\\n'%x)\n",
        "\n",
        "# and perform various manipulations\n",
        "x += '2'\n",
        "print('Original string after adding letter: %s\\n'%x)\n",
        "\n",
        "x += '_2019'\n",
        "print('Original string after adding word: %s\\n'%x)\n",
        "\n",
        "# convert all to uppercase\n",
        "print('Original string after converting to uppercase: %s\\n'%x.upper())\n",
        "\n",
        "# replace/remove whitespace\n",
        "print('Original string after replacing whitespace with no space: %s\\n'%x.replace(\" \",\"\"))\n",
        "\n",
        "# access a substring\n",
        "# take the first five letters\n",
        "print('Get first five letters of the original string: %s\\n'%x[0:5])"
      ]
    },
    {
      "cell_type": "code",
      "execution_count": 9,
      "metadata": {
        "colab": {
          "base_uri": "https://localhost:8080/"
        },
        "id": "ApLVMFZY8azo",
        "outputId": "f3e96ec8-59b9-4896-c378-a0d0ceab562e"
      },
      "outputs": [
        {
          "name": "stdout",
          "output_type": "stream",
          "text": [
            "1 2 3\n"
          ]
        }
      ],
      "source": [
        "# an alternative print format\n",
        "x = 1\n",
        "y = 2\n",
        "z = x + y\n",
        "print('{} {} {}'.format(x, y, z))\n"
      ]
    },
    {
      "cell_type": "code",
      "execution_count": null,
      "metadata": {
        "colab": {
          "base_uri": "https://localhost:8080/"
        },
        "id": "1il9y3bvYqu4",
        "outputId": "0c727edf-ab5e-4332-f27d-c85e1f4dac1c"
      },
      "outputs": [
        {
          "name": "stdout",
          "output_type": "stream",
          "text": [
            "Subtracting 5.00 and 2.00 = 3.00\n",
            "\n",
            "Multiplying 5.00 and 2.00 = 10.00\n",
            "\n",
            "Division of 5.00 and 2.00 = 2.50\n",
            "\n",
            "Modulo 5.00 and 2.00 = 1.00\n",
            "\n",
            "Integer Division 5 and 2 = 2\n",
            "\n",
            "Square 5 = 25\n",
            "Sqrt 5.000000 = 2.236068\n"
          ]
        }
      ],
      "source": [
        "# subtraction\n",
        "z = x - y\n",
        "print('Subtracting %.2f and %.2f = %.2f\\n'%(x,y,z))\n",
        "\n",
        "# Multiplication\n",
        "z = x * y\n",
        "print('Multiplying %.2f and %.2f = %.2f\\n'%(x,y,z))\n",
        "\n",
        "# division\n",
        "z = x/y\n",
        "print('Division of %.2f and %.2f = %.2f\\n'%(x,y,z))\n",
        "\n",
        "# modulo (see e.g. https://en.wikipedia.org/wiki/Modulo)\n",
        "z = x % y\n",
        "print('Modulo %.2f and %.2f = %.2f\\n'%(x,y,z))\n",
        "\n",
        "# integer division (see e.g. https://mathworld.wolfram.com/IntegerDivision.html)\n",
        "z = x // y\n",
        "print('Integer Division %d and %d = %d\\n'%(x,y,z))\n",
        "\n",
        "# power\n",
        "z = x**2\n",
        "print('Square %d = %d'%(x,z))\n",
        "\n",
        "# square root\n",
        "z = x**0.5\n",
        "print('Sqrt %f = %f'%(x,z))\n",
        "\n",
        "# unary operator\n",
        "\n",
        "# x = x + 1\n",
        "x += 1\n",
        "\n",
        "# division\n",
        "# x = x/2\n",
        "x /= 2\n"
      ]
    },
    {
      "cell_type": "markdown",
      "metadata": {
        "id": "QZJlhAWo-3-a"
      },
      "source": [
        "### **Lists**:\n",
        "---"
      ]
    },
    {
      "cell_type": "code",
      "execution_count": 10,
      "metadata": {
        "colab": {
          "base_uri": "https://localhost:8080/"
        },
        "id": "-n0E1rKePhbZ",
        "outputId": "de7afa81-dc17-4436-e3a2-16a46378f4c3"
      },
      "outputs": [
        {
          "name": "stdout",
          "output_type": "stream",
          "text": [
            "[0, 1, 4, 5, 6]\n",
            "5\n",
            "<class 'list'>\n",
            "['a', 1, '99', 5.0, 21, [2, 4, 5], -2.0]\n",
            "a\n",
            "-2.0\n",
            "['a', 1, '99', 5.0, 21]\n"
          ]
        }
      ],
      "source": [
        "# create a simple vector as a list\n",
        "x = [0,1,4,5,6]\n",
        "\n",
        "# print the vector and its length\n",
        "print(x)\n",
        "print(len(x))\n",
        "\n",
        "# you can always get the type of an object (say x) by type(x)\n",
        "print(type(x))\n",
        "\n",
        "# lists in python can contain objects of different types\n",
        "x = ['a', 1, '99', 5.,21, [2,4,5], -2.]\n",
        "print(x)\n",
        "\n",
        "# Indexing: access the elements\n",
        "# if we want the first element\n",
        "# python is zero based\n",
        "print(x[0])\n",
        "\n",
        "# the last element\n",
        "print(x[-1])\n",
        "\n",
        "#access a subset of the elements\n",
        "# when we write 0:5, we take the 0,1,2,3,4 elements\n",
        "print(x[0:5])\n",
        "\n",
        "# we'll see some list manipulation after we introduce for loops"
      ]
    },
    {
      "cell_type": "markdown",
      "metadata": {
        "id": "chLOigSrksHA"
      },
      "source": [
        "### **Conditions and Indents**:\n",
        "---\n",
        "Python is a bit special when it comes to how we structure our code.\n",
        "\n",
        "In Java, we had blocks of code, where we used brackets\n",
        "{ } to denote the beggining and the end of a block.\n",
        "\n",
        "In Python, we work with indents. The body/block of If statements, loops or function definitions must be indented for the compiler to know what is inside and what outside.\n",
        "\n",
        "This is quite tricky in the beginning, but you get used to it very easily."
      ]
    },
    {
      "cell_type": "code",
      "execution_count": 12,
      "metadata": {
        "colab": {
          "base_uri": "https://localhost:8080/"
        },
        "id": "cZ9-1TaXkxAH",
        "outputId": "d6498266-f4ac-4d25-8450-0d9712e1750b"
      },
      "outputs": [
        {
          "name": "stdout",
          "output_type": "stream",
          "text": [
            "2 < 3\n",
            "2 == 2\n",
            "z is True\n",
            "False\n",
            "True\n"
          ]
        }
      ],
      "source": [
        "# contrary to other languages python dependes on indents (4 spaces or 1 Tab) to distinguish block of codes\n",
        "#let's first define 2 variables for comparison\n",
        "x = 2\n",
        "y = 3\n",
        "\n",
        "# compare and print which one is larger\n",
        "if x > y:\n",
        "  print('%d > %d'%(x, y))\n",
        "else:\n",
        "  print('%d < %d'%(x,y))\n",
        "\n",
        "x = y = 2\n",
        "# if we want to consider more cases, we use the elif keyword\n",
        "if x>y:\n",
        "  print('%d > %d' %(x,y))\n",
        "elif x<y:\n",
        "  print('%d < %d' %(x,y))\n",
        "elif x == y:\n",
        "  print('%d == %d' % (x,y))\n",
        "else:\n",
        "  raise ValueError('Something is seriously wrong.')\n",
        "\n",
        "# the comparisons above essentially return a boolean value to check if the condition is true\n",
        "z = True\n",
        "if z: # you can write z == True but it is a bit redundant\n",
        "  print('z is True')\n",
        "else:\n",
        "  print('z is False')\n",
        "\n",
        "# you can use more conditions to construct a more complex dependency such as\n",
        "\n",
        "# z is true and x>y is False so the falg below must be false\n",
        "flag = z and x>y\n",
        "print(flag)\n",
        "\n",
        "# if one of the expressions is True, then the falg is True\n",
        "flag = z or x > y\n",
        "print(flag)"
      ]
    },
    {
      "cell_type": "code",
      "execution_count": 15,
      "metadata": {
        "colab": {
          "base_uri": "https://localhost:8080/"
        },
        "id": "7qouIn5R8azu",
        "outputId": "e716f226-f7bc-4e93-b074-9ec52a8fd313"
      },
      "outputs": [
        {
          "name": "stdout",
          "output_type": "stream",
          "text": [
            "5\n"
          ]
        }
      ],
      "source": [
        "# we can also write one line if statements to define variables quickly\n",
        "k = 5 if x == 2 else 4\n",
        "print(k)"
      ]
    },
    {
      "cell_type": "markdown",
      "metadata": {
        "id": "_bWda1hMR5ch"
      },
      "source": [
        "### **Loops in Python**:\n",
        "___"
      ]
    },
    {
      "cell_type": "code",
      "execution_count": 16,
      "metadata": {
        "colab": {
          "base_uri": "https://localhost:8080/"
        },
        "id": "VnV0iJ-RR3ZL",
        "outputId": "72a2ddda-44fd-42c2-adeb-1742376f6b67"
      },
      "outputs": [
        {
          "name": "stdout",
          "output_type": "stream",
          "text": [
            "Range(3):\n",
            "0 1 2 \n",
            "Range(1,5):\n",
            "1 2 3 4 \n",
            "Range(1,5,2):\n",
            "1 3 \n",
            "50\n",
            "Print each element in the list:\n",
            "0 1 4 5 6 \n",
            "Equivalent print:\n",
            "0 1 4 5 6 \n",
            "2\n",
            "3\n",
            "[1, 2, 3]\n",
            "[4, 5, 6]\n"
          ]
        }
      ],
      "source": [
        "# range() returns a sequence of integers\n",
        "# one argument corresponds to the integer to stop to starting from zero\n",
        "# thus in range(3) we'll have the sequence 0,1,2\n",
        "# you can add a start integer and a step size range(1,5) will give 1,2,3,4\n",
        "# and range(1,5,2) will give 1,3\n",
        "\n",
        "print('Range(3):')\n",
        "for i in range(3):\n",
        "  # by using end = ' ' we wont get a newline after print, so we'll print inline\n",
        "  print(i, end = ' ')\n",
        "\n",
        "# if you replace end, do something like this to avoid printing the next command in the same line\n",
        "print()\n",
        "\n",
        "print('Range(1,5):')\n",
        "for i in range(1,5):\n",
        "  print(i, end = ' ')\n",
        "print()\n",
        "\n",
        "print('Range(1,5,2):')\n",
        "for i in range(1,5,2):\n",
        "  print(i, end = ' ')\n",
        "print()\n",
        "\n",
        "# while loop\n",
        "steps = 100\n",
        "# the loop will be performed 100 times\n",
        "while steps > 0:\n",
        "  steps -= 1\n",
        "\n",
        "# you can break the loops if you want:\n",
        "steps = 100\n",
        "\n",
        "# while True will run forever if you don't break\n",
        "while True:\n",
        "  if steps == 50:\n",
        "    break\n",
        "  steps -= 1\n",
        "print(steps)\n",
        "\n",
        "# iterate the list\n",
        "# we can use the for loops to access the elements of a list with indices\n",
        "x = [0,1,4,5,6]\n",
        "\n",
        "# len(X) returns the length of the list\n",
        "print('Print each element in the list:')\n",
        "for i in range(len(x)):\n",
        "  print(x[i], end = ' ')\n",
        "\n",
        "print()\n",
        "\n",
        "# equivalently we can write\n",
        "print('Equivalent print:')\n",
        "for element in x:\n",
        "  print(element, end = ' ')\n",
        "\n",
        "print()\n",
        "\n",
        "A = [[1,2,3], [4,5,6]]\n",
        "print(len(A))\n",
        "print(len(A[0]))\n",
        "\n",
        "for i in range(len(A)):\n",
        "  print(A[i])\n"
      ]
    },
    {
      "cell_type": "code",
      "execution_count": 17,
      "metadata": {
        "colab": {
          "base_uri": "https://localhost:8080/"
        },
        "id": "hwCYK_Fl8azx",
        "outputId": "3dd4d132-aab4-4e7c-f3cd-5d84af52a47a"
      },
      "outputs": [
        {
          "name": "stdout",
          "output_type": "stream",
          "text": [
            "50\n"
          ]
        }
      ],
      "source": [
        "steps = 100\n",
        "\n",
        "# while True will run forever if you don't break\n",
        "while True:\n",
        "  if steps == 50:\n",
        "    break\n",
        "  steps -= 1\n",
        "print(steps)\n"
      ]
    },
    {
      "cell_type": "markdown",
      "metadata": {
        "id": "w0DoqDH1DnXc"
      },
      "source": [
        "### **Functions**:\n",
        "---\n"
      ]
    },
    {
      "cell_type": "code",
      "execution_count": 1,
      "metadata": {
        "colab": {
          "base_uri": "https://localhost:8080/"
        },
        "id": "sFEmAn40Zz2V",
        "outputId": "03cdc48a-d220-442c-c2cc-0a611459ebbb"
      },
      "outputs": [
        {
          "name": "stdout",
          "output_type": "stream",
          "text": [
            "5\n",
            "6\n",
            "False\n",
            "True\n",
            "False\n",
            "True\n"
          ]
        }
      ],
      "source": [
        "# Function definition\n",
        "def add_function(x, y):\n",
        "  return x + y\n",
        "\n",
        "def multiply_function(x,y):\n",
        "  return x * y\n",
        "\n",
        "def greater(x,y):\n",
        "  if x > y:\n",
        "    return True\n",
        "  else:\n",
        "    return False\n",
        "\n",
        "# if not specified, the value of y will be 0 (see below)\n",
        "def greater_than(x, y=0):\n",
        "  if x > y:\n",
        "    return True\n",
        "  else:\n",
        "    return False\n",
        "\n",
        "# call the function and assign result to new variable\n",
        "z = add_function(2,3)\n",
        "print(z)\n",
        "z = multiply_function(2,3)\n",
        "print(z)\n",
        "\n",
        "x = 2\n",
        "y = 20\n",
        "x_greater_y = greater(x, y)\n",
        "y_greater_x = greater(y, x)\n",
        "print(x_greater_y)\n",
        "print(y_greater_x)\n",
        "\n",
        "x = -1\n",
        "# with only one argument (that is x), y will have the default value 0\n",
        "x_greater_0 = greater_than(x)\n",
        "print(x_greater_0)\n",
        "\n",
        "# however we can always specify both arguments\n",
        "x_greater_minus_10 = greater_than(x, y = -10)\n",
        "print(x_greater_minus_10)"
      ]
    },
    {
      "cell_type": "markdown",
      "metadata": {
        "id": "Q7xwr66kpfdl"
      },
      "source": [
        "### **NumPy**:\n",
        "\n",
        "---\n",
        "\n",
        "\n",
        "NumPy stands for Numerical Python and is a very powerful library for scientific computing with Python.\n",
        "\n",
        "It provides all the necessary structures and interfaces for efficient and optimized computations.\n"
      ]
    },
    {
      "cell_type": "code",
      "execution_count": 33,
      "metadata": {
        "colab": {
          "base_uri": "https://localhost:8080/"
        },
        "id": "tArbkogyphqI",
        "outputId": "eb638498-5935-445f-a0bd-7c91492fe672"
      },
      "outputs": [
        {
          "name": "stdout",
          "output_type": "stream",
          "text": [
            "[1, 2, 3, 4, 5, 6]\n",
            "[5, 7, 9]\n",
            "[5, 7, 9]\n"
          ]
        }
      ],
      "source": [
        "# performing operation with lists is quite tedious\n",
        "# let's say we have two lists\n",
        "x = [1,2,3]\n",
        "y = [4,5,6]\n",
        "\n",
        "# we want to add them\n",
        "# one would try\n",
        "z = x + y\n",
        "\n",
        "# however the syntax is a bit weird\n",
        "print(z)\n",
        "\n",
        "# what we get instead is a concatenation of the two lists\n",
        "# if we want to add in native python we need to do it element by element\n",
        "\n",
        "# not pythonic way\n",
        "# create a new list\n",
        "z = []\n",
        "\n",
        "# iterate over all the items of the lists and add (assuming lists of the same size)\n",
        "for i in range(len(x)):\n",
        "  z.append(x[i] + y[i])\n",
        "\n",
        "# now we get the sought result\n",
        "print(z)\n",
        "\n",
        "# a one liner for this computation\n",
        "z = [x[i] + y[i] for i in range(len(x))]\n",
        "\n",
        "print(z)"
      ]
    },
    {
      "cell_type": "code",
      "execution_count": 34,
      "metadata": {
        "colab": {
          "base_uri": "https://localhost:8080/"
        },
        "id": "TZEl_b4IB99I",
        "outputId": "730c2433-b2a1-4dd8-d2e8-e8bd39347d73"
      },
      "outputs": [
        {
          "name": "stdout",
          "output_type": "stream",
          "text": [
            "Numpy x : [1 2 3]\n",
            "Numpy y : [4 5 6]\n",
            "Shape of np array: (3,)\n",
            "<class 'numpy.ndarray'>\n",
            "Adding the two np arrays results in: [5 7 9] with shape (3,) and type <class 'numpy.ndarray'>\n",
            "int64\n",
            "<U32\n",
            "['1.0' '2.0' '3.0' 'd']\n",
            "[[13. 13. 13. 13. 13.]\n",
            " [13. 13. 13. 13. 13.]]\n",
            "[[1.47660132 1.82898659 1.06291941 1.58662486 1.63968811]\n",
            " [1.12783825 1.44212247 1.60337983 1.04292595 1.84867312]]\n",
            "True\n",
            "False\n",
            "[[1. 1. 1. 1. 1.]\n",
            " [1. 1. 1. 1. 1.]]\n",
            "[[1. 1. 1. 1. 1.]\n",
            " [1. 1. 1. 1. 1.]]\n",
            "(2, 5)\n",
            "(2, 5)\n",
            "Overall mean: 1.0000\n",
            "Row mean: [1. 1. 1. 1. 1.]\n",
            "Col mean: [1. 1.]\n",
            "[[1. 0. 0. 0. 0.]\n",
            " [0. 1. 0. 0. 0.]\n",
            " [0. 0. 1. 0. 0.]\n",
            " [0. 0. 0. 1. 0.]\n",
            " [0. 0. 0. 0. 1.]]\n",
            "5.0\n"
          ]
        }
      ],
      "source": [
        "# the problem gets worse for matrices (list of lists in Python)\n",
        "# we can use numpy arrays for both lists and lists of lists\n",
        "x_np = np.array(x)\n",
        "y_np = np.array(y)\n",
        "print('Numpy x :', x_np)\n",
        "print('Numpy y :', y_np)\n",
        "\n",
        "# now it is more intuitive to get the shape of the vector\n",
        "print('Shape of np array:', x_np.shape)\n",
        "\n",
        "# thus x_np is a vector with 3 elements\n",
        "print(type(x_np))\n",
        "\n",
        "# now addition is much easier\n",
        "z = x_np + y_np\n",
        "print('Adding the two np arrays results in:', z, 'with shape', z.shape, 'and type', type(z))\n",
        "\n",
        "# numpy arrays in turn have their own type to know what elements it contains\n",
        "print(z.dtype)\n",
        "\n",
        "x = [1., 2., 3., 'd']\n",
        "print(np.array(x).dtype)\n",
        "print(np.array(x))\n",
        "\n",
        "# create an array with a given shape\n",
        "x = np.ones([2,5])\n",
        "\n",
        "# create a matrix with random values\n",
        "x_rand = np.random.random_sample([2,5])\n",
        "\n",
        "y = np.ones([5,4])\n",
        "\n",
        "# add scalar\n",
        "z = x + 12.\n",
        "print(z)\n",
        "\n",
        "#subtract, multiply, division scalar\n",
        "z = x - 9.\n",
        "z = x / 12.\n",
        "z = x * 20.\n",
        "\n",
        "\n",
        "# add matrices\n",
        "z = x + x_rand\n",
        "print(z)\n",
        "\n",
        "# you can use the matrix as a boolean condition.\n",
        "# However you must define what exactly are you searching\n",
        "# if you write an if statement with condition x > 0. you'll get an error\n",
        "# use np.any(x>0) if you want the condition to be true even if only one value in x is larger than 0\n",
        "# use np.all(x>0) if you want all values to be larger than 0 for the condition to be true\n",
        "if np.all(x>0):\n",
        "  print('True')\n",
        "\n",
        "z = np.array([1,3,4,5])\n",
        "if np.all(z >3):\n",
        "  print('True') # not gonna happen\n",
        "else:\n",
        "  print('False')\n",
        "\n",
        "# inf values\n",
        "# we can use np.inf to set an inf value to either a scalar or an array\n",
        "\n",
        "# power\n",
        "z = x**2\n",
        "print(z)\n",
        "# or\n",
        "z = np.power(x,2)\n",
        "print(z)\n",
        "\n",
        "\n",
        "print(x.shape)\n",
        "print(x_rand.shape)\n",
        "# multiplication\n",
        "# matrices must be the same size\n",
        "z = x * x_rand\n",
        "\n",
        "# dot product\n",
        "# remember if A.shape = [m, n], for the dot product of AB, we need B.shape = [n, k]\n",
        "z = np.dot(x, y)\n",
        "\n",
        "# sum\n",
        "# you can sum all the values inside the array very easily\n",
        "z = np.sum(x) # or z = x.sum()\n",
        "\n",
        "\n",
        "# or you can do it by axis (rows/columns)\n",
        "z = x.sum(0) # x has shape [2,5], z has shape [5]\n",
        "z = x.sum(-1) # x has shape [2, 5], z has shape [2]\n",
        "\n",
        "# you can also compute the mean this way\n",
        "z = x.mean()\n",
        "print('Overall mean: %.4f'%z)\n",
        "\n",
        "z = x.mean(0)\n",
        "print('Row mean: %s'%z)\n",
        "\n",
        "\n",
        "z = x.mean(1)\n",
        "print('Col mean: %s'%z)\n",
        "\n",
        "# create a 5x5 indentity matrix\n",
        "z = np.eye(5)\n",
        "print(z)\n",
        "\n",
        "# compute the trace of the matrix\n",
        "print(np.trace(z))"
      ]
    }
  ],
  "metadata": {
    "colab": {
      "provenance": []
    },
    "kernelspec": {
      "display_name": ".venv",
      "language": "python",
      "name": "python3"
    },
    "language_info": {
      "codemirror_mode": {
        "name": "ipython",
        "version": 3
      },
      "file_extension": ".py",
      "mimetype": "text/x-python",
      "name": "python",
      "nbconvert_exporter": "python",
      "pygments_lexer": "ipython3",
      "version": "3.13.2"
    }
  },
  "nbformat": 4,
  "nbformat_minor": 0
}
