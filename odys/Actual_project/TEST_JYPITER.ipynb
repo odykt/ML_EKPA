{
 "cells": [
  {
   "cell_type": "code",
   "execution_count": null,
   "id": "268a58ea",
   "metadata": {},
   "outputs": [
    {
     "name": "stdout",
     "output_type": "stream",
     "text": [
      "Loaded 58954 images.\n",
      "Image shape: (64, 64) (if RGB images)\n",
      "Labels: ['AbdomenCT' 'BreastMRI' 'CXR' 'ChestCT' 'Hand' 'HeadCT']\n"
     ]
    }
   ],
   "source": [
    "import os\n",
    "from PIL import Image\n",
    "import numpy as np\n",
    "import matplotlib.pyplot as plt\n",
    "\n",
    "# Define the input directory\n",
    "input_dir = 'D:/ML_LOCAL_WIN/archive'\n",
    "\n",
    "# Initialize lists to store images and labels\n",
    "images = []\n",
    "labels = []\n",
    "\n",
    "# Loop through each folder (class name) in the input directory\n",
    "for category in os.listdir(input_dir):\n",
    "    category_path = os.path.join(input_dir, category)\n",
    "    if os.path.isdir(category_path):  # Ensure it's a directory\n",
    "        for file_name in os.listdir(category_path):\n",
    "            if file_name.endswith('.jpeg') or file_name.endswith('.png'):  # Check for valid image files\n",
    "                img_path = os.path.join(category_path, file_name)\n",
    "                try:\n",
    "                    # Open and preprocess the image\n",
    "                    img = Image.open(img_path)\n",
    "                    # img = img.resize((128, 128))  # Resize to 128x128\n",
    "                    img_array = np.array(img)\n",
    "                    \n",
    "                    # Append the image and its label\n",
    "                    images.append(img_array)\n",
    "                    labels.append(category)  # Use the folder name as the label\n",
    "                except Exception as e:\n",
    "                    print(f\"Error loading image {img_path}: {e}\")\n",
    "\n",
    "# Convert lists to numpy arrays\n",
    "images = np.array(images)\n",
    "labels = np.array(labels)\n",
    "\n",
    "# Print some information about the loaded data\n",
    "print(f\"Loaded {len(images)} images.\")\n",
    "print(f\"Image shape: {images[0].shape} \")\n",
    "print(f\"Labels: {np.unique(labels)}\")\n"
   ]
  },
  {
   "cell_type": "code",
   "execution_count": 3,
   "id": "2aef7ec6",
   "metadata": {},
   "outputs": [
    {
     "name": "stdout",
     "output_type": "stream",
     "text": [
      "Label 'AbdomenCT' count: 10000\n",
      "Label 'BreastMRI' count: 8954\n",
      "Label 'CXR' count: 10000\n",
      "Label 'ChestCT' count: 10000\n",
      "Label 'Hand' count: 10000\n",
      "Label 'HeadCT' count: 10000\n",
      "classes_6: {np.str_('AbdomenCT'): np.int64(10000), np.str_('BreastMRI'): np.int64(8954), np.str_('CXR'): np.int64(10000), np.str_('ChestCT'): np.int64(10000), np.str_('Hand'): np.int64(10000), np.str_('HeadCT'): np.int64(10000)}\n"
     ]
    },
    {
     "data": {
      "text/plain": [
       "Text(0.5, 0, 'Class Labels')"
      ]
     },
     "execution_count": 3,
     "metadata": {},
     "output_type": "execute_result"
    },
    {
     "data": {
      "image/png": "[encoded data removed]",
      "text/plain": [
       "<Figure size 1000x500 with 1 Axes>"
      ]
     },
     "metadata": {},
     "output_type": "display_data"
    }
   ],
   "source": [
    "# i=0\n",
    "classes_6={} #dictionary to store the count of each class\n",
    "for unique_label in np.unique(labels):\n",
    "    print(f\"Label '{unique_label}' count: {np.sum(labels == unique_label)}\")\n",
    "    # i += 1\n",
    "    classes_6[unique_label]=np.sum(labels == unique_label)\n",
    "\n",
    "# print(f\"Label '{unique_label}' {np.min(np.sum(labels == unique_label))}\")\n",
    "print (f\"classes_6: {classes_6}\")\n",
    "\n",
    "# Plot the distribution of classes\n",
    "plt.figure(figsize=(10, 5))\n",
    "plt.bar(classes_6.keys(), classes_6.values(), color='skyblue')\n",
    "plt.xlabel('Class Labels')"
   ]
  },
  {
   "cell_type": "code",
   "execution_count": null,
   "id": "137b9c82",
   "metadata": {},
   "outputs": [],
   "source": []
  }
 ],
 "metadata": {
  "kernelspec": {
   "display_name": ".venv",
   "language": "python",
   "name": "python3"
  },
  "language_info": {
   "codemirror_mode": {
    "name": "ipython",
    "version": 3
   },
   "file_extension": ".py",
   "mimetype": "text/x-python",
   "name": "python",
   "nbconvert_exporter": "python",
   "pygments_lexer": "ipython3",
   "version": "3.13.2"
  }
 },
 "nbformat": 4,
 "nbformat_minor": 5
}
