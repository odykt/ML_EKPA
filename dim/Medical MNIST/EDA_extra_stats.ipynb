{
 "cells": [
  {
   "cell_type": "code",
   "execution_count": 1,
   "id": "0d74dffe",
   "metadata": {},
   "outputs": [
    {
     "name": "stdout",
     "output_type": "stream",
     "text": [
      "Statistics for AbdomenCT:\n",
      "Mean: 112.71519200570198\n",
      "Std Dev: 26.23550835099135\n",
      "Min: 50\n",
      "Max: 255\n",
      "Statistics for BreastMRI:\n",
      "Mean: 27.14472677517555\n",
      "Std Dev: 55.78062753647592\n",
      "Min: 0\n",
      "Max: 255\n",
      "Statistics for ChestCT:\n",
      "Mean: 131.04774272460938\n",
      "Std Dev: 15.305748030745987\n",
      "Min: 115\n",
      "Max: 255\n",
      "Statistics for CXR:\n",
      "Mean: 143.4112727923183\n",
      "Std Dev: 77.74672677921642\n",
      "Min: 0\n",
      "Max: 255\n",
      "Statistics for Hand:\n",
      "Mean: 68.09754567871094\n",
      "Std Dev: 80.70880984092874\n",
      "Min: 0\n",
      "Max: 255\n",
      "Statistics for HeadCT:\n",
      "Mean: 59.27367986631138\n",
      "Std Dev: 65.15478416717005\n",
      "Min: 0\n",
      "Max: 255\n"
     ]
    }
   ],
   "source": [
    "import os\n",
    "import numpy as np\n",
    "from PIL import Image\n",
    "\n",
    "input_dir = './archive' \n",
    "\n",
    "def calculate_statistics(directory):\n",
    "    for category in os.listdir(directory):\n",
    "        category_path = os.path.join(directory, category)\n",
    "        if os.path.isdir(category_path):\n",
    "            pixel_values = []\n",
    "            for file_name in os.listdir(category_path):\n",
    "                if file_name.endswith('.jpeg') or file_name.endswith('.png'):\n",
    "                    img_path = os.path.join(category_path, file_name)\n",
    "                    with Image.open(img_path) as img:\n",
    "                        pixel_values.extend(np.array(img).flatten())\n",
    "            print(f\"Statistics for {category}:\")\n",
    "            print(f\"Mean: {np.mean(pixel_values)}\")\n",
    "            print(f\"Std Dev: {np.std(pixel_values)}\")\n",
    "            print(f\"Min: {np.min(pixel_values)}\")\n",
    "            print(f\"Max: {np.max(pixel_values)}\")\n",
    "\n",
    "calculate_statistics(input_dir)\n"
   ]
  }
 ],
 "metadata": {
  "kernelspec": {
   "display_name": "myenv",
   "language": "python",
   "name": "python3"
  },
  "language_info": {
   "codemirror_mode": {
    "name": "ipython",
    "version": 3
   },
   "file_extension": ".py",
   "mimetype": "text/x-python",
   "name": "python",
   "nbconvert_exporter": "python",
   "pygments_lexer": "ipython3",
   "version": "3.9.21"
  }
 },
 "nbformat": 4,
 "nbformat_minor": 5
}
